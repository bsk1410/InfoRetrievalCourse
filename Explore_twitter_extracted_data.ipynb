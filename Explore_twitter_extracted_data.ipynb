{
 "cells": [
  {
   "cell_type": "code",
   "execution_count": 1,
   "metadata": {},
   "outputs": [],
   "source": [
    "import pandas as pd\n",
    "import json"
   ]
  },
  {
   "cell_type": "code",
   "execution_count": 2,
   "metadata": {},
   "outputs": [],
   "source": [
    "f = open('../data/democratic_candidates_timelines')\n",
    "\n",
    "#variable to limit the number of tweets considered\n",
    "i = 0\n",
    "#list to store each tweet data\n",
    "outList = []\n",
    "\n",
    "for line in f:\n",
    "    r = json.loads(line)\n",
    "    outList.append(pd.Series(r))\n",
    "    i+=1\n",
    "    #limiting to 10 tweets\n",
    "    if i == 10:\n",
    "        break"
   ]
  },
  {
   "cell_type": "code",
   "execution_count": 3,
   "metadata": {},
   "outputs": [
    {
     "data": {
      "text/html": [
       "<div>\n",
       "<style>\n",
       "    .dataframe thead tr:only-child th {\n",
       "        text-align: right;\n",
       "    }\n",
       "\n",
       "    .dataframe thead th {\n",
       "        text-align: left;\n",
       "    }\n",
       "\n",
       "    .dataframe tbody tr th {\n",
       "        vertical-align: top;\n",
       "    }\n",
       "</style>\n",
       "<table border=\"1\" class=\"dataframe\">\n",
       "  <thead>\n",
       "    <tr style=\"text-align: right;\">\n",
       "      <th></th>\n",
       "      <th>contributors</th>\n",
       "      <th>coordinates</th>\n",
       "      <th>created_at</th>\n",
       "      <th>entities</th>\n",
       "      <th>extended_entities</th>\n",
       "      <th>favorite_count</th>\n",
       "      <th>favorited</th>\n",
       "      <th>geo</th>\n",
       "      <th>id</th>\n",
       "      <th>id_str</th>\n",
       "      <th>...</th>\n",
       "      <th>quoted_status</th>\n",
       "      <th>quoted_status_id</th>\n",
       "      <th>quoted_status_id_str</th>\n",
       "      <th>retweet_count</th>\n",
       "      <th>retweeted</th>\n",
       "      <th>retweeted_status</th>\n",
       "      <th>source</th>\n",
       "      <th>text</th>\n",
       "      <th>truncated</th>\n",
       "      <th>user</th>\n",
       "    </tr>\n",
       "  </thead>\n",
       "  <tbody>\n",
       "    <tr>\n",
       "      <th>0</th>\n",
       "      <td>None</td>\n",
       "      <td>None</td>\n",
       "      <td>Fri Nov 04 14:19:49 +0000 2016</td>\n",
       "      <td>{'hashtags': [], 'user_mentions': [], 'symbols...</td>\n",
       "      <td>NaN</td>\n",
       "      <td>7208</td>\n",
       "      <td>False</td>\n",
       "      <td>None</td>\n",
       "      <td>794544683821178900</td>\n",
       "      <td>794544683821178880</td>\n",
       "      <td>...</td>\n",
       "      <td>NaN</td>\n",
       "      <td>NaN</td>\n",
       "      <td>NaN</td>\n",
       "      <td>2992</td>\n",
       "      <td>False</td>\n",
       "      <td>NaN</td>\n",
       "      <td>&lt;a href=\"https://dashboard.twitter.com\" rel=\"n...</td>\n",
       "      <td>This election is about who has the experience ...</td>\n",
       "      <td>True</td>\n",
       "      <td>{'translator_type': 'none', 'favourites_count'...</td>\n",
       "    </tr>\n",
       "    <tr>\n",
       "      <th>1</th>\n",
       "      <td>None</td>\n",
       "      <td>None</td>\n",
       "      <td>Fri Nov 04 17:41:35 +0000 2016</td>\n",
       "      <td>{'hashtags': [], 'user_mentions': [], 'symbols...</td>\n",
       "      <td>NaN</td>\n",
       "      <td>1524</td>\n",
       "      <td>False</td>\n",
       "      <td>None</td>\n",
       "      <td>794595460535160800</td>\n",
       "      <td>794595460535160832</td>\n",
       "      <td>...</td>\n",
       "      <td>NaN</td>\n",
       "      <td>NaN</td>\n",
       "      <td>NaN</td>\n",
       "      <td>725</td>\n",
       "      <td>False</td>\n",
       "      <td>NaN</td>\n",
       "      <td>&lt;a href=\"https://about.twitter.com/products/tw...</td>\n",
       "      <td>\"If you elect me on Tuesday, that’s the kind o...</td>\n",
       "      <td>False</td>\n",
       "      <td>{'translator_type': 'none', 'favourites_count'...</td>\n",
       "    </tr>\n",
       "    <tr>\n",
       "      <th>2</th>\n",
       "      <td>None</td>\n",
       "      <td>None</td>\n",
       "      <td>Wed Oct 12 19:37:19 +0000 2016</td>\n",
       "      <td>{'hashtags': [], 'user_mentions': [], 'symbols...</td>\n",
       "      <td>NaN</td>\n",
       "      <td>9219</td>\n",
       "      <td>False</td>\n",
       "      <td>None</td>\n",
       "      <td>786289663636074500</td>\n",
       "      <td>786289663636074496</td>\n",
       "      <td>...</td>\n",
       "      <td>NaN</td>\n",
       "      <td>NaN</td>\n",
       "      <td>NaN</td>\n",
       "      <td>4055</td>\n",
       "      <td>False</td>\n",
       "      <td>NaN</td>\n",
       "      <td>&lt;a href=\"https://about.twitter.com/products/tw...</td>\n",
       "      <td>Florida, good news! Your voter registration de...</td>\n",
       "      <td>True</td>\n",
       "      <td>{'translator_type': 'none', 'favourites_count'...</td>\n",
       "    </tr>\n",
       "    <tr>\n",
       "      <th>3</th>\n",
       "      <td>None</td>\n",
       "      <td>None</td>\n",
       "      <td>Fri Nov 04 19:40:18 +0000 2016</td>\n",
       "      <td>{'hashtags': [{'indices': [122, 130], 'text': ...</td>\n",
       "      <td>NaN</td>\n",
       "      <td>0</td>\n",
       "      <td>False</td>\n",
       "      <td>None</td>\n",
       "      <td>794625336227090400</td>\n",
       "      <td>794625336227090432</td>\n",
       "      <td>...</td>\n",
       "      <td>NaN</td>\n",
       "      <td>NaN</td>\n",
       "      <td>NaN</td>\n",
       "      <td>536</td>\n",
       "      <td>False</td>\n",
       "      <td>{'geo': None, 'source': '&lt;a href=\"https://abou...</td>\n",
       "      <td>&lt;a href=\"https://about.twitter.com/products/tw...</td>\n",
       "      <td>RT @russfeingold: .@BernieSanders knows Russ w...</td>\n",
       "      <td>False</td>\n",
       "      <td>{'translator_type': 'none', 'favourites_count'...</td>\n",
       "    </tr>\n",
       "    <tr>\n",
       "      <th>4</th>\n",
       "      <td>None</td>\n",
       "      <td>None</td>\n",
       "      <td>Fri Nov 04 21:32:00 +0000 2016</td>\n",
       "      <td>{'hashtags': [], 'user_mentions': [], 'symbols...</td>\n",
       "      <td>NaN</td>\n",
       "      <td>5594</td>\n",
       "      <td>False</td>\n",
       "      <td>None</td>\n",
       "      <td>794653448750977000</td>\n",
       "      <td>794653448750977029</td>\n",
       "      <td>...</td>\n",
       "      <td>NaN</td>\n",
       "      <td>NaN</td>\n",
       "      <td>NaN</td>\n",
       "      <td>1786</td>\n",
       "      <td>False</td>\n",
       "      <td>NaN</td>\n",
       "      <td>&lt;a href=\"https://dashboard.twitter.com\" rel=\"n...</td>\n",
       "      <td>One of the major differences between Hillary C...</td>\n",
       "      <td>False</td>\n",
       "      <td>{'translator_type': 'none', 'favourites_count'...</td>\n",
       "    </tr>\n",
       "  </tbody>\n",
       "</table>\n",
       "<p>5 rows × 29 columns</p>\n",
       "</div>"
      ],
      "text/plain": [
       "  contributors coordinates                      created_at  \\\n",
       "0         None        None  Fri Nov 04 14:19:49 +0000 2016   \n",
       "1         None        None  Fri Nov 04 17:41:35 +0000 2016   \n",
       "2         None        None  Wed Oct 12 19:37:19 +0000 2016   \n",
       "3         None        None  Fri Nov 04 19:40:18 +0000 2016   \n",
       "4         None        None  Fri Nov 04 21:32:00 +0000 2016   \n",
       "\n",
       "                                            entities extended_entities  \\\n",
       "0  {'hashtags': [], 'user_mentions': [], 'symbols...               NaN   \n",
       "1  {'hashtags': [], 'user_mentions': [], 'symbols...               NaN   \n",
       "2  {'hashtags': [], 'user_mentions': [], 'symbols...               NaN   \n",
       "3  {'hashtags': [{'indices': [122, 130], 'text': ...               NaN   \n",
       "4  {'hashtags': [], 'user_mentions': [], 'symbols...               NaN   \n",
       "\n",
       "   favorite_count  favorited   geo                  id              id_str  \\\n",
       "0            7208      False  None  794544683821178900  794544683821178880   \n",
       "1            1524      False  None  794595460535160800  794595460535160832   \n",
       "2            9219      False  None  786289663636074500  786289663636074496   \n",
       "3               0      False  None  794625336227090400  794625336227090432   \n",
       "4            5594      False  None  794653448750977000  794653448750977029   \n",
       "\n",
       "                         ...                         quoted_status  \\\n",
       "0                        ...                                   NaN   \n",
       "1                        ...                                   NaN   \n",
       "2                        ...                                   NaN   \n",
       "3                        ...                                   NaN   \n",
       "4                        ...                                   NaN   \n",
       "\n",
       "   quoted_status_id quoted_status_id_str  retweet_count retweeted  \\\n",
       "0               NaN                  NaN           2992     False   \n",
       "1               NaN                  NaN            725     False   \n",
       "2               NaN                  NaN           4055     False   \n",
       "3               NaN                  NaN            536     False   \n",
       "4               NaN                  NaN           1786     False   \n",
       "\n",
       "                                    retweeted_status  \\\n",
       "0                                                NaN   \n",
       "1                                                NaN   \n",
       "2                                                NaN   \n",
       "3  {'geo': None, 'source': '<a href=\"https://abou...   \n",
       "4                                                NaN   \n",
       "\n",
       "                                              source  \\\n",
       "0  <a href=\"https://dashboard.twitter.com\" rel=\"n...   \n",
       "1  <a href=\"https://about.twitter.com/products/tw...   \n",
       "2  <a href=\"https://about.twitter.com/products/tw...   \n",
       "3  <a href=\"https://about.twitter.com/products/tw...   \n",
       "4  <a href=\"https://dashboard.twitter.com\" rel=\"n...   \n",
       "\n",
       "                                                text truncated  \\\n",
       "0  This election is about who has the experience ...      True   \n",
       "1  \"If you elect me on Tuesday, that’s the kind o...     False   \n",
       "2  Florida, good news! Your voter registration de...      True   \n",
       "3  RT @russfeingold: .@BernieSanders knows Russ w...     False   \n",
       "4  One of the major differences between Hillary C...     False   \n",
       "\n",
       "                                                user  \n",
       "0  {'translator_type': 'none', 'favourites_count'...  \n",
       "1  {'translator_type': 'none', 'favourites_count'...  \n",
       "2  {'translator_type': 'none', 'favourites_count'...  \n",
       "3  {'translator_type': 'none', 'favourites_count'...  \n",
       "4  {'translator_type': 'none', 'favourites_count'...  \n",
       "\n",
       "[5 rows x 29 columns]"
      ]
     },
     "execution_count": 3,
     "metadata": {},
     "output_type": "execute_result"
    }
   ],
   "source": [
    "df = pd.DataFrame(outList)\n",
    "df.head()"
   ]
  },
  {
   "cell_type": "code",
   "execution_count": 4,
   "metadata": {},
   "outputs": [
    {
     "data": {
      "text/plain": [
       "Index(['contributors', 'coordinates', 'created_at', 'entities',\n",
       "       'extended_entities', 'favorite_count', 'favorited', 'geo', 'id',\n",
       "       'id_str', 'in_reply_to_screen_name', 'in_reply_to_status_id',\n",
       "       'in_reply_to_status_id_str', 'in_reply_to_user_id',\n",
       "       'in_reply_to_user_id_str', 'is_quote_status', 'lang', 'place',\n",
       "       'possibly_sensitive', 'quoted_status', 'quoted_status_id',\n",
       "       'quoted_status_id_str', 'retweet_count', 'retweeted',\n",
       "       'retweeted_status', 'source', 'text', 'truncated', 'user'],\n",
       "      dtype='object')"
      ]
     },
     "execution_count": 4,
     "metadata": {},
     "output_type": "execute_result"
    }
   ],
   "source": [
    "df.columns"
   ]
  },
  {
   "cell_type": "code",
   "execution_count": 5,
   "metadata": {},
   "outputs": [
    {
     "data": {
      "text/plain": [
       "contributors                                                              None\n",
       "coordinates                                                               None\n",
       "created_at                                      Fri Nov 04 14:19:49 +0000 2016\n",
       "entities                     {'hashtags': [], 'user_mentions': [], 'symbols...\n",
       "extended_entities                                                          NaN\n",
       "favorite_count                                                            7208\n",
       "favorited                                                                False\n",
       "geo                                                                       None\n",
       "id                                                          794544683821178900\n",
       "id_str                                                      794544683821178880\n",
       "in_reply_to_screen_name                                                   None\n",
       "in_reply_to_status_id                                                      NaN\n",
       "in_reply_to_status_id_str                                                 None\n",
       "in_reply_to_user_id                                                        NaN\n",
       "in_reply_to_user_id_str                                                   None\n",
       "is_quote_status                                                          False\n",
       "lang                                                                        en\n",
       "place                                                                     None\n",
       "possibly_sensitive                                                       False\n",
       "quoted_status                                                              NaN\n",
       "quoted_status_id                                                           NaN\n",
       "quoted_status_id_str                                                       NaN\n",
       "retweet_count                                                             2992\n",
       "retweeted                                                                False\n",
       "retweeted_status                                                           NaN\n",
       "source                       <a href=\"https://dashboard.twitter.com\" rel=\"n...\n",
       "text                         This election is about who has the experience ...\n",
       "truncated                                                                 True\n",
       "user                         {'translator_type': 'none', 'favourites_count'...\n",
       "Name: 0, dtype: object"
      ]
     },
     "execution_count": 5,
     "metadata": {},
     "output_type": "execute_result"
    }
   ],
   "source": [
    "df.iloc[0]"
   ]
  },
  {
   "cell_type": "code",
   "execution_count": 6,
   "metadata": {},
   "outputs": [
    {
     "data": {
      "text/plain": [
       "'This election is about who has the experience and vision to help working families. Without a doubt that candidate i… https://t.co/PQnLFuSP9O'"
      ]
     },
     "execution_count": 6,
     "metadata": {},
     "output_type": "execute_result"
    }
   ],
   "source": [
    "df.iloc[0]['text']"
   ]
  },
  {
   "cell_type": "code",
   "execution_count": 7,
   "metadata": {
    "scrolled": false
   },
   "outputs": [
    {
     "data": {
      "text/plain": [
       "{'contributors_enabled': False,\n",
       " 'created_at': 'Wed Nov 17 17:53:52 +0000 2010',\n",
       " 'default_profile': False,\n",
       " 'default_profile_image': False,\n",
       " 'description': 'The political revolution is just beginning. Tweets by staff.',\n",
       " 'entities': {'description': {'urls': []},\n",
       "  'url': {'urls': [{'display_url': 'BernieSanders.com',\n",
       "     'expanded_url': 'https://BernieSanders.com',\n",
       "     'indices': [0, 23],\n",
       "     'url': 'https://t.co/jpg8Sp1GhR'}]}},\n",
       " 'favourites_count': 967,\n",
       " 'follow_request_sent': False,\n",
       " 'followers_count': 8843150,\n",
       " 'following': False,\n",
       " 'friends_count': 1526,\n",
       " 'geo_enabled': True,\n",
       " 'has_extended_profile': True,\n",
       " 'id': 216776631,\n",
       " 'id_str': '216776631',\n",
       " 'is_translation_enabled': False,\n",
       " 'is_translator': False,\n",
       " 'lang': 'en',\n",
       " 'listed_count': 15796,\n",
       " 'location': 'Vermont',\n",
       " 'name': 'Bernie Sanders',\n",
       " 'notifications': False,\n",
       " 'profile_background_color': 'EA5047',\n",
       " 'profile_background_image_url': 'http://pbs.twimg.com/profile_background_images/576114811475341312/Q2-L3Yol.jpeg',\n",
       " 'profile_background_image_url_https': 'https://pbs.twimg.com/profile_background_images/576114811475341312/Q2-L3Yol.jpeg',\n",
       " 'profile_background_tile': False,\n",
       " 'profile_banner_url': 'https://pbs.twimg.com/profile_banners/216776631/1486492042',\n",
       " 'profile_image_url': 'http://pbs.twimg.com/profile_images/794596124686487552/kqpbolIc_normal.jpg',\n",
       " 'profile_image_url_https': 'https://pbs.twimg.com/profile_images/794596124686487552/kqpbolIc_normal.jpg',\n",
       " 'profile_link_color': '3B94D9',\n",
       " 'profile_sidebar_border_color': 'EEEEEE',\n",
       " 'profile_sidebar_fill_color': 'EFEFEF',\n",
       " 'profile_text_color': '050005',\n",
       " 'profile_use_background_image': False,\n",
       " 'protected': False,\n",
       " 'screen_name': 'BernieSanders',\n",
       " 'statuses_count': 10807,\n",
       " 'time_zone': 'Eastern Time (US & Canada)',\n",
       " 'translator_type': 'none',\n",
       " 'url': 'https://t.co/jpg8Sp1GhR',\n",
       " 'utc_offset': -18000,\n",
       " 'verified': True}"
      ]
     },
     "execution_count": 7,
     "metadata": {},
     "output_type": "execute_result"
    }
   ],
   "source": [
    "df.iloc[0]['user']"
   ]
  },
  {
   "cell_type": "code",
   "execution_count": 8,
   "metadata": {},
   "outputs": [
    {
     "data": {
      "text/plain": [
       "'Bernie Sanders'"
      ]
     },
     "execution_count": 8,
     "metadata": {},
     "output_type": "execute_result"
    }
   ],
   "source": [
    "df.iloc[0]['user']['name']"
   ]
  },
  {
   "cell_type": "code",
   "execution_count": 9,
   "metadata": {},
   "outputs": [
    {
     "data": {
      "text/plain": [
       "'BernieSanders'"
      ]
     },
     "execution_count": 9,
     "metadata": {},
     "output_type": "execute_result"
    }
   ],
   "source": [
    "df.iloc[0]['user']['screen_name']"
   ]
  },
  {
   "cell_type": "markdown",
   "metadata": {},
   "source": [
    "Two kinds of Spatial Data are given."
   ]
  },
  {
   "cell_type": "code",
   "execution_count": 10,
   "metadata": {},
   "outputs": [
    {
     "data": {
      "text/plain": [
       "'Vermont'"
      ]
     },
     "execution_count": 10,
     "metadata": {},
     "output_type": "execute_result"
    }
   ],
   "source": [
    "df.iloc[0]['user']['location']"
   ]
  },
  {
   "cell_type": "code",
   "execution_count": 11,
   "metadata": {},
   "outputs": [],
   "source": [
    "#If there no value it is represented by an empty string\n",
    "df.iloc[0]['geo']"
   ]
  },
  {
   "cell_type": "code",
   "execution_count": 12,
   "metadata": {},
   "outputs": [
    {
     "data": {
      "text/plain": [
       "nan"
      ]
     },
     "execution_count": 12,
     "metadata": {},
     "output_type": "execute_result"
    }
   ],
   "source": [
    "#Some are explicitly stated as nan\n",
    "df.iloc[0]['extended_entities']"
   ]
  }
 ],
 "metadata": {
  "kernelspec": {
   "display_name": "Python 3",
   "language": "python",
   "name": "python3"
  },
  "language_info": {
   "codemirror_mode": {
    "name": "ipython",
    "version": 3
   },
   "file_extension": ".py",
   "mimetype": "text/x-python",
   "name": "python",
   "nbconvert_exporter": "python",
   "pygments_lexer": "ipython3",
   "version": "3.5.4"
  }
 },
 "nbformat": 4,
 "nbformat_minor": 2
}
